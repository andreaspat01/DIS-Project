{
 "cells": [
  {
   "cell_type": "code",
   "execution_count": 9,
   "metadata": {},
   "outputs": [
    {
     "ename": "ModuleNotFoundError",
     "evalue": "No module named 'bank'",
     "output_type": "error",
     "traceback": [
      "\u001b[0;31m---------------------------------------------------------------------------\u001b[0m",
      "\u001b[0;31mModuleNotFoundError\u001b[0m                       Traceback (most recent call last)",
      "\u001b[1;32m/Users/ap/Dropbox/KU/4. Semester/Databases and Informationssystems/Project/DIS-Project/UIS_bank/bank/sql_2_df.ipynb Cell 1'\u001b[0m in \u001b[0;36m<cell line: 4>\u001b[0;34m()\u001b[0m\n\u001b[1;32m      <a href='vscode-notebook-cell:/Users/ap/Dropbox/KU/4.%20Semester/Databases%20and%20Informationssystems/Project/DIS-Project/UIS_bank/bank/sql_2_df.ipynb#ch0000000?line=1'>2</a>\u001b[0m \u001b[39mimport\u001b[39;00m \u001b[39mpsycopg2\u001b[39;00m\n\u001b[1;32m      <a href='vscode-notebook-cell:/Users/ap/Dropbox/KU/4.%20Semester/Databases%20and%20Informationssystems/Project/DIS-Project/UIS_bank/bank/sql_2_df.ipynb#ch0000000?line=2'>3</a>\u001b[0m \u001b[39mimport\u001b[39;00m \u001b[39mpandas\u001b[39;00m \u001b[39mas\u001b[39;00m \u001b[39mpd\u001b[39;00m\n\u001b[0;32m----> <a href='vscode-notebook-cell:/Users/ap/Dropbox/KU/4.%20Semester/Databases%20and%20Informationssystems/Project/DIS-Project/UIS_bank/bank/sql_2_df.ipynb#ch0000000?line=3'>4</a>\u001b[0m \u001b[39mfrom\u001b[39;00m \u001b[39mbank\u001b[39;00m \u001b[39mimport\u001b[39;00m conn\n\u001b[1;32m      <a href='vscode-notebook-cell:/Users/ap/Dropbox/KU/4.%20Semester/Databases%20and%20Informationssystems/Project/DIS-Project/UIS_bank/bank/sql_2_df.ipynb#ch0000000?line=5'>6</a>\u001b[0m user_sql \u001b[39m=\u001b[39m sql\u001b[39m.\u001b[39mSQL(\u001b[39m\"\"\"\u001b[39m\n\u001b[1;32m      <a href='vscode-notebook-cell:/Users/ap/Dropbox/KU/4.%20Semester/Databases%20and%20Informationssystems/Project/DIS-Project/UIS_bank/bank/sql_2_df.ipynb#ch0000000?line=6'>7</a>\u001b[0m \u001b[39m    SELECT * FROM gdp\u001b[39m\n\u001b[1;32m      <a href='vscode-notebook-cell:/Users/ap/Dropbox/KU/4.%20Semester/Databases%20and%20Informationssystems/Project/DIS-Project/UIS_bank/bank/sql_2_df.ipynb#ch0000000?line=7'>8</a>\u001b[0m \u001b[39m    \u001b[39m\u001b[39m\"\"\"\u001b[39m)\n\u001b[1;32m     <a href='vscode-notebook-cell:/Users/ap/Dropbox/KU/4.%20Semester/Databases%20and%20Informationssystems/Project/DIS-Project/UIS_bank/bank/sql_2_df.ipynb#ch0000000?line=9'>10</a>\u001b[0m df \u001b[39m=\u001b[39m pd\u001b[39m.\u001b[39mread_sql_query(user_sql,conn)\n",
      "\u001b[0;31mModuleNotFoundError\u001b[0m: No module named 'bank'"
     ]
    }
   ],
   "source": [
    "from psycopg2 import sql\n",
    "import psycopg2\n",
    "import pandas as pd\n",
    "\n",
    "\n",
    "user_sql = sql.SQL(\"\"\"\n",
    "    SELECT * FROM gdp\n",
    "    \"\"\")\n",
    "\n",
    "df = pd.read_sql_query(user_sql,conn)\n",
    "df_dk = df.loc[df['name'] == \"Denmark\"]\n",
    "df_dk.plot.line()\n",
    "\n",
    "\n"
   ]
  },
  {
   "cell_type": "code",
   "execution_count": null,
   "metadata": {},
   "outputs": [],
   "source": []
  }
 ],
 "metadata": {
  "interpreter": {
   "hash": "1c18cf0ca5f372652eb3c53f1e6e7513e994b0e9bbc1c1aa195ddcac7c5e80e0"
  },
  "kernelspec": {
   "display_name": "Python 3.9.7 ('base')",
   "language": "python",
   "name": "python3"
  },
  "language_info": {
   "codemirror_mode": {
    "name": "ipython",
    "version": 3
   },
   "file_extension": ".py",
   "mimetype": "text/x-python",
   "name": "python",
   "nbconvert_exporter": "python",
   "pygments_lexer": "ipython3",
   "version": "3.9.7"
  },
  "orig_nbformat": 4
 },
 "nbformat": 4,
 "nbformat_minor": 2
}
